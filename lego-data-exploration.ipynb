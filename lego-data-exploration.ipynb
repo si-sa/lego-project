{
 "cells": [
  {
   "cell_type": "markdown",
   "metadata": {},
   "source": [
    "## 1. Introduction\n",
    "<p>LEGO is a popular brand of toy building bricks. They are often sold in sets in order to build a specific object. Each set contains a number of parts in different shapes, sizes, colors and themes.</p>\n",
    "<p>\"Lego\" was derived from the Danish phrase leg godt, which means \"play well\"</p>\n",
    "<p><img src=\"https://sh-s7-live-s.legocdn.com/is/image/LEGO/6177?$PDPDefault$\" alt=\"lego\"></p>"
   ]
  },
  {
   "cell_type": "markdown",
   "metadata": {},
   "source": [
    "## 2. Database Architecture\n",
    "<p>The Data is taken from <a href='https://rebrickable.com/downloads/'>rebrickable</a> official LEGO website. This database contains information on which parts are included in different LEGO sets. These files are as of July 2018.</p>\n",
    "\n",
    "<h3>The data is available as csv files and the schema is shown below <small>( obtained from their website )</small></h3>\n",
    "<p><img src=\"https://rebrickable.com/static/img/diagrams/downloads_schema.png\" alt=\"schema\"></p>\n",
    "<p>Let us start by reading in the datasets of lego sets!</p>"
   ]
  },
  {
   "cell_type": "code",
   "execution_count": 1,
   "metadata": {},
   "outputs": [],
   "source": [
    "# Import all modules here\n",
    "\n",
    "import pandas as pd # for data processing, read CSV file I/O (e.g. pd.read_csv)\n",
    "import numpy as np # for scientific computing with Python\n",
    "import matplotlib.pyplot as plt # for plotting\n",
    "import seaborn as sns # for making plots with seaborn\n",
    "import os # to list all the datasets of lego project"
   ]
  },
  {
   "cell_type": "code",
   "execution_count": 2,
   "metadata": {},
   "outputs": [
    {
     "data": {
      "text/plain": [
       "['colors.csv',\n",
       " 'inventories.csv',\n",
       " 'inventory_parts.csv',\n",
       " 'inventory_sets.csv',\n",
       " 'parts.csv',\n",
       " 'part_categories.csv',\n",
       " 'sets.csv',\n",
       " 'themes.csv']"
      ]
     },
     "execution_count": 2,
     "metadata": {},
     "output_type": "execute_result"
    }
   ],
   "source": [
    "path = 'datasets'\n",
    "os.listdir(path)"
   ]
  },
  {
   "cell_type": "markdown",
   "metadata": {},
   "source": [
    "<p>so we can see 8 Datasets here as shown in the database architecture above. Lets explore each dataset to get insights of datatypes and shapes of the data</p>"
   ]
  },
  {
   "cell_type": "code",
   "execution_count": 3,
   "metadata": {},
   "outputs": [],
   "source": [
    "# Read the Data into DataFrames using Pandas library read_csv function\n",
    "\n",
    "colors = pd.read_csv('datasets/colors.csv')\n",
    "inventories = pd.read_csv('datasets/inventories.csv')\n",
    "inventory_parts = pd.read_csv('datasets/inventory_parts.csv')\n",
    "inventory_sets = pd.read_csv('datasets/inventory_sets.csv')\n",
    "parts = pd.read_csv('datasets/parts.csv')\n",
    "part_categories = pd.read_csv('datasets/part_categories.csv')\n",
    "sets = pd.read_csv('datasets/sets.csv')\n",
    "themes = pd.read_csv('datasets/themes.csv')"
   ]
  },
  {
   "cell_type": "markdown",
   "metadata": {},
   "source": [
    "## 3. Data Description"
   ]
  },
  {
   "cell_type": "code",
   "execution_count": 4,
   "metadata": {},
   "outputs": [
    {
     "name": "stdout",
     "output_type": "stream",
     "text": [
      "colors\n",
      "   id            name     rgb is_trans\n",
      "0  -1         Unknown  0033B2        f\n",
      "1   0           Black  05131D        f\n",
      "2   1            Blue  0055BF        f\n",
      "3   2           Green  237841        f\n",
      "4   3  Dark Turquoise  008F9B        f\n",
      "Shape(139, 4)\n",
      "\n",
      "inventories\n",
      "   id  version set_num\n",
      "0   1        1  7922-1\n",
      "1   3        1  3931-1\n",
      "2   4        1  6942-1\n",
      "3  15        1  5158-1\n",
      "4  16        1   903-1\n",
      "Shape(13008, 3)\n",
      "\n",
      "inventory_parts\n",
      "   inventory_id     part_num  color_id  quantity is_spare\n",
      "0             1     48379c01        72         1        f\n",
      "1             1        48395         7         1        f\n",
      "2             1     mcsport6        25         1        f\n",
      "3             1       paddle         0         1        f\n",
      "4             3  11816pr0005        78         1        f\n",
      "Shape(673467, 5)\n",
      "\n",
      "inventory_sets\n",
      "   inventory_id  set_num  quantity\n",
      "0            35  75911-1         1\n",
      "1            35  75912-1         1\n",
      "2            39  75048-1         1\n",
      "3            39  75053-1         1\n",
      "4            50   4515-1         1\n",
      "Shape(3039, 3)\n",
      "\n",
      "parts\n",
      "  part_num                                               name  part_cat_id\n",
      "0   0687b1                        Set 0687 Activity Booklet 1           17\n",
      "1     0901  Baseplate 16 x 30 with Set 080 Yellow House Print            1\n",
      "2     0902  Baseplate 16 x 24 with Set 080 Small White Hou...            1\n",
      "3     0903     Baseplate 16 x 24 with Set 080 Red House Print            1\n",
      "4     0904  Baseplate 16 x 24 with Set 080 Large White Hou...            1\n",
      "Shape(29718, 3)\n",
      "\n",
      "part_categories\n",
      "   id                     name\n",
      "0   1               Baseplates\n",
      "1   2           Bricks Printed\n",
      "2   3            Bricks Sloped\n",
      "3   4  Duplo, Quatro and Primo\n",
      "4   5           Bricks Special\n",
      "Shape(58, 2)\n",
      "\n",
      "sets\n",
      "  set_num                        name  year  theme_id  num_parts\n",
      "0    00-1             Weetabix Castle  1970       414        471\n",
      "1   001-1                       Gears  1965         1         43\n",
      "2  0011-2           Town Mini-Figures  1978        84         12\n",
      "3  0011-3  Castle 2 for 1 Bonus Offer  1987       199          2\n",
      "4  0012-1          Space Mini-Figures  1979       143         12\n",
      "Shape(12875, 5)\n",
      "\n",
      "themes\n",
      "   id            name  parent_id\n",
      "0   1         Technic        NaN\n",
      "1   2  Arctic Technic        1.0\n",
      "2   3     Competition        1.0\n",
      "3   4  Expert Builder        1.0\n",
      "4   5           Model        1.0\n",
      "Shape(652, 3)\n",
      "\n"
     ]
    }
   ],
   "source": [
    "# Print Head of all the datasets to get a peek through\n",
    "\n",
    "print('colors\\n' + str(colors.head()) + '\\nShape' + str(colors.shape) + '\\n')\n",
    "print('inventories\\n' + str(inventories.head()) + '\\nShape' + str(inventories.shape) + '\\n')\n",
    "print('inventory_parts\\n' + str(inventory_parts.head()) + '\\nShape' + str(inventory_parts.shape) + '\\n')\n",
    "print('inventory_sets\\n' + str(inventory_sets.head()) + '\\nShape' + str(inventory_sets.shape) + '\\n')\n",
    "print('parts\\n' + str(parts.head()) + '\\nShape' + str(parts.shape) + '\\n')\n",
    "print('part_categories\\n' + str(part_categories.head()) + '\\nShape' + str(part_categories.shape) + '\\n')\n",
    "print('sets\\n' + str(sets.head()) + '\\nShape' + str(sets.shape) + '\\n')\n",
    "print('themes\\n' + str(themes.head()) + '\\nShape' + str(themes.shape) + '\\n')"
   ]
  },
  {
   "cell_type": "markdown",
   "metadata": {},
   "source": [
    "<h3> 3.1 Info on each Dataset </h3>"
   ]
  },
  {
   "cell_type": "code",
   "execution_count": 5,
   "metadata": {},
   "outputs": [
    {
     "name": "stdout",
     "output_type": "stream",
     "text": [
      "Info of sets:\n",
      "<class 'pandas.core.frame.DataFrame'>\n",
      "RangeIndex: 12875 entries, 0 to 12874\n",
      "Data columns (total 5 columns):\n",
      "set_num      12875 non-null object\n",
      "name         12875 non-null object\n",
      "year         12875 non-null int64\n",
      "theme_id     12875 non-null int64\n",
      "num_parts    12875 non-null int64\n",
      "dtypes: int64(3), object(2)\n",
      "memory usage: 503.0+ KB\n"
     ]
    },
    {
     "data": {
      "text/html": [
       "<div>\n",
       "<style scoped>\n",
       "    .dataframe tbody tr th:only-of-type {\n",
       "        vertical-align: middle;\n",
       "    }\n",
       "\n",
       "    .dataframe tbody tr th {\n",
       "        vertical-align: top;\n",
       "    }\n",
       "\n",
       "    .dataframe thead th {\n",
       "        text-align: right;\n",
       "    }\n",
       "</style>\n",
       "<table border=\"1\" class=\"dataframe\">\n",
       "  <thead>\n",
       "    <tr style=\"text-align: right;\">\n",
       "      <th></th>\n",
       "      <th>year</th>\n",
       "      <th>theme_id</th>\n",
       "      <th>num_parts</th>\n",
       "    </tr>\n",
       "  </thead>\n",
       "  <tbody>\n",
       "    <tr>\n",
       "      <th>count</th>\n",
       "      <td>12875.000000</td>\n",
       "      <td>12875.000000</td>\n",
       "      <td>12875.000000</td>\n",
       "    </tr>\n",
       "    <tr>\n",
       "      <th>mean</th>\n",
       "      <td>2002.734524</td>\n",
       "      <td>334.445748</td>\n",
       "      <td>165.516816</td>\n",
       "    </tr>\n",
       "    <tr>\n",
       "      <th>std</th>\n",
       "      <td>13.838464</td>\n",
       "      <td>189.845661</td>\n",
       "      <td>348.224585</td>\n",
       "    </tr>\n",
       "    <tr>\n",
       "      <th>min</th>\n",
       "      <td>1949.000000</td>\n",
       "      <td>1.000000</td>\n",
       "      <td>-1.000000</td>\n",
       "    </tr>\n",
       "    <tr>\n",
       "      <th>25%</th>\n",
       "      <td>1997.000000</td>\n",
       "      <td>168.000000</td>\n",
       "      <td>11.000000</td>\n",
       "    </tr>\n",
       "    <tr>\n",
       "      <th>50%</th>\n",
       "      <td>2006.000000</td>\n",
       "      <td>371.000000</td>\n",
       "      <td>46.000000</td>\n",
       "    </tr>\n",
       "    <tr>\n",
       "      <th>75%</th>\n",
       "      <td>2013.000000</td>\n",
       "      <td>494.000000</td>\n",
       "      <td>172.000000</td>\n",
       "    </tr>\n",
       "    <tr>\n",
       "      <th>max</th>\n",
       "      <td>2018.000000</td>\n",
       "      <td>653.000000</td>\n",
       "      <td>7541.000000</td>\n",
       "    </tr>\n",
       "  </tbody>\n",
       "</table>\n",
       "</div>"
      ],
      "text/plain": [
       "               year      theme_id     num_parts\n",
       "count  12875.000000  12875.000000  12875.000000\n",
       "mean    2002.734524    334.445748    165.516816\n",
       "std       13.838464    189.845661    348.224585\n",
       "min     1949.000000      1.000000     -1.000000\n",
       "25%     1997.000000    168.000000     11.000000\n",
       "50%     2006.000000    371.000000     46.000000\n",
       "75%     2013.000000    494.000000    172.000000\n",
       "max     2018.000000    653.000000   7541.000000"
      ]
     },
     "execution_count": 5,
     "metadata": {},
     "output_type": "execute_result"
    }
   ],
   "source": [
    "print('Info of sets:')\n",
    "sets.info()\n",
    "sets.describe()"
   ]
  },
  {
   "cell_type": "code",
   "execution_count": 6,
   "metadata": {},
   "outputs": [
    {
     "name": "stdout",
     "output_type": "stream",
     "text": [
      "Info of inventory_parts:\n",
      "<class 'pandas.core.frame.DataFrame'>\n",
      "RangeIndex: 673467 entries, 0 to 673466\n",
      "Data columns (total 5 columns):\n",
      "inventory_id    673467 non-null int64\n",
      "part_num        673467 non-null object\n",
      "color_id        673467 non-null int64\n",
      "quantity        673467 non-null int64\n",
      "is_spare        673467 non-null object\n",
      "dtypes: int64(3), object(2)\n",
      "memory usage: 25.7+ MB\n"
     ]
    },
    {
     "data": {
      "text/html": [
       "<div>\n",
       "<style scoped>\n",
       "    .dataframe tbody tr th:only-of-type {\n",
       "        vertical-align: middle;\n",
       "    }\n",
       "\n",
       "    .dataframe tbody tr th {\n",
       "        vertical-align: top;\n",
       "    }\n",
       "\n",
       "    .dataframe thead th {\n",
       "        text-align: right;\n",
       "    }\n",
       "</style>\n",
       "<table border=\"1\" class=\"dataframe\">\n",
       "  <thead>\n",
       "    <tr style=\"text-align: right;\">\n",
       "      <th></th>\n",
       "      <th>inventory_id</th>\n",
       "      <th>color_id</th>\n",
       "      <th>quantity</th>\n",
       "    </tr>\n",
       "  </thead>\n",
       "  <tbody>\n",
       "    <tr>\n",
       "      <th>count</th>\n",
       "      <td>673467.000000</td>\n",
       "      <td>673467.000000</td>\n",
       "      <td>673467.000000</td>\n",
       "    </tr>\n",
       "    <tr>\n",
       "      <th>mean</th>\n",
       "      <td>10443.598028</td>\n",
       "      <td>81.791531</td>\n",
       "      <td>3.288820</td>\n",
       "    </tr>\n",
       "    <tr>\n",
       "      <th>std</th>\n",
       "      <td>6595.315863</td>\n",
       "      <td>627.530558</td>\n",
       "      <td>8.214414</td>\n",
       "    </tr>\n",
       "    <tr>\n",
       "      <th>min</th>\n",
       "      <td>1.000000</td>\n",
       "      <td>-1.000000</td>\n",
       "      <td>1.000000</td>\n",
       "    </tr>\n",
       "    <tr>\n",
       "      <th>25%</th>\n",
       "      <td>5018.000000</td>\n",
       "      <td>2.000000</td>\n",
       "      <td>1.000000</td>\n",
       "    </tr>\n",
       "    <tr>\n",
       "      <th>50%</th>\n",
       "      <td>9952.000000</td>\n",
       "      <td>15.000000</td>\n",
       "      <td>2.000000</td>\n",
       "    </tr>\n",
       "    <tr>\n",
       "      <th>75%</th>\n",
       "      <td>14756.000000</td>\n",
       "      <td>71.000000</td>\n",
       "      <td>4.000000</td>\n",
       "    </tr>\n",
       "    <tr>\n",
       "      <th>max</th>\n",
       "      <td>26486.000000</td>\n",
       "      <td>9999.000000</td>\n",
       "      <td>1440.000000</td>\n",
       "    </tr>\n",
       "  </tbody>\n",
       "</table>\n",
       "</div>"
      ],
      "text/plain": [
       "        inventory_id       color_id       quantity\n",
       "count  673467.000000  673467.000000  673467.000000\n",
       "mean    10443.598028      81.791531       3.288820\n",
       "std      6595.315863     627.530558       8.214414\n",
       "min         1.000000      -1.000000       1.000000\n",
       "25%      5018.000000       2.000000       1.000000\n",
       "50%      9952.000000      15.000000       2.000000\n",
       "75%     14756.000000      71.000000       4.000000\n",
       "max     26486.000000    9999.000000    1440.000000"
      ]
     },
     "execution_count": 6,
     "metadata": {},
     "output_type": "execute_result"
    }
   ],
   "source": [
    "print('Info of inventory_parts:')\n",
    "inventory_parts.info()\n",
    "inventory_parts.describe()"
   ]
  },
  {
   "cell_type": "code",
   "execution_count": 7,
   "metadata": {},
   "outputs": [
    {
     "name": "stdout",
     "output_type": "stream",
     "text": [
      "Info of part_categories:\n",
      "<class 'pandas.core.frame.DataFrame'>\n",
      "RangeIndex: 58 entries, 0 to 57\n",
      "Data columns (total 2 columns):\n",
      "id      58 non-null int64\n",
      "name    58 non-null object\n",
      "dtypes: int64(1), object(1)\n",
      "memory usage: 1008.0+ bytes\n"
     ]
    },
    {
     "data": {
      "text/html": [
       "<div>\n",
       "<style scoped>\n",
       "    .dataframe tbody tr th:only-of-type {\n",
       "        vertical-align: middle;\n",
       "    }\n",
       "\n",
       "    .dataframe tbody tr th {\n",
       "        vertical-align: top;\n",
       "    }\n",
       "\n",
       "    .dataframe thead th {\n",
       "        text-align: right;\n",
       "    }\n",
       "</style>\n",
       "<table border=\"1\" class=\"dataframe\">\n",
       "  <thead>\n",
       "    <tr style=\"text-align: right;\">\n",
       "      <th></th>\n",
       "      <th>id</th>\n",
       "    </tr>\n",
       "  </thead>\n",
       "  <tbody>\n",
       "    <tr>\n",
       "      <th>count</th>\n",
       "      <td>58.000000</td>\n",
       "    </tr>\n",
       "    <tr>\n",
       "      <th>mean</th>\n",
       "      <td>29.500000</td>\n",
       "    </tr>\n",
       "    <tr>\n",
       "      <th>std</th>\n",
       "      <td>16.886879</td>\n",
       "    </tr>\n",
       "    <tr>\n",
       "      <th>min</th>\n",
       "      <td>1.000000</td>\n",
       "    </tr>\n",
       "    <tr>\n",
       "      <th>25%</th>\n",
       "      <td>15.250000</td>\n",
       "    </tr>\n",
       "    <tr>\n",
       "      <th>50%</th>\n",
       "      <td>29.500000</td>\n",
       "    </tr>\n",
       "    <tr>\n",
       "      <th>75%</th>\n",
       "      <td>43.750000</td>\n",
       "    </tr>\n",
       "    <tr>\n",
       "      <th>max</th>\n",
       "      <td>58.000000</td>\n",
       "    </tr>\n",
       "  </tbody>\n",
       "</table>\n",
       "</div>"
      ],
      "text/plain": [
       "              id\n",
       "count  58.000000\n",
       "mean   29.500000\n",
       "std    16.886879\n",
       "min     1.000000\n",
       "25%    15.250000\n",
       "50%    29.500000\n",
       "75%    43.750000\n",
       "max    58.000000"
      ]
     },
     "execution_count": 7,
     "metadata": {},
     "output_type": "execute_result"
    }
   ],
   "source": [
    "print('Info of part_categories:')\n",
    "part_categories.info()\n",
    "part_categories.describe()"
   ]
  },
  {
   "cell_type": "code",
   "execution_count": 8,
   "metadata": {},
   "outputs": [
    {
     "name": "stdout",
     "output_type": "stream",
     "text": [
      "Info of parts:\n",
      "<class 'pandas.core.frame.DataFrame'>\n",
      "RangeIndex: 29718 entries, 0 to 29717\n",
      "Data columns (total 3 columns):\n",
      "part_num       29718 non-null object\n",
      "name           29718 non-null object\n",
      "part_cat_id    29718 non-null int64\n",
      "dtypes: int64(1), object(2)\n",
      "memory usage: 696.6+ KB\n"
     ]
    },
    {
     "data": {
      "text/html": [
       "<div>\n",
       "<style scoped>\n",
       "    .dataframe tbody tr th:only-of-type {\n",
       "        vertical-align: middle;\n",
       "    }\n",
       "\n",
       "    .dataframe tbody tr th {\n",
       "        vertical-align: top;\n",
       "    }\n",
       "\n",
       "    .dataframe thead th {\n",
       "        text-align: right;\n",
       "    }\n",
       "</style>\n",
       "<table border=\"1\" class=\"dataframe\">\n",
       "  <thead>\n",
       "    <tr style=\"text-align: right;\">\n",
       "      <th></th>\n",
       "      <th>part_cat_id</th>\n",
       "    </tr>\n",
       "  </thead>\n",
       "  <tbody>\n",
       "    <tr>\n",
       "      <th>count</th>\n",
       "      <td>29718.000000</td>\n",
       "    </tr>\n",
       "    <tr>\n",
       "      <th>mean</th>\n",
       "      <td>20.923952</td>\n",
       "    </tr>\n",
       "    <tr>\n",
       "      <th>std</th>\n",
       "      <td>14.887312</td>\n",
       "    </tr>\n",
       "    <tr>\n",
       "      <th>min</th>\n",
       "      <td>1.000000</td>\n",
       "    </tr>\n",
       "    <tr>\n",
       "      <th>25%</th>\n",
       "      <td>13.000000</td>\n",
       "    </tr>\n",
       "    <tr>\n",
       "      <th>50%</th>\n",
       "      <td>13.000000</td>\n",
       "    </tr>\n",
       "    <tr>\n",
       "      <th>75%</th>\n",
       "      <td>28.000000</td>\n",
       "    </tr>\n",
       "    <tr>\n",
       "      <th>max</th>\n",
       "      <td>58.000000</td>\n",
       "    </tr>\n",
       "  </tbody>\n",
       "</table>\n",
       "</div>"
      ],
      "text/plain": [
       "        part_cat_id\n",
       "count  29718.000000\n",
       "mean      20.923952\n",
       "std       14.887312\n",
       "min        1.000000\n",
       "25%       13.000000\n",
       "50%       13.000000\n",
       "75%       28.000000\n",
       "max       58.000000"
      ]
     },
     "execution_count": 8,
     "metadata": {},
     "output_type": "execute_result"
    }
   ],
   "source": [
    "print('Info of parts:')\n",
    "parts.info()\n",
    "parts.describe()"
   ]
  },
  {
   "cell_type": "code",
   "execution_count": 9,
   "metadata": {},
   "outputs": [
    {
     "name": "stdout",
     "output_type": "stream",
     "text": [
      "Info of themes:\n",
      "<class 'pandas.core.frame.DataFrame'>\n",
      "RangeIndex: 652 entries, 0 to 651\n",
      "Data columns (total 3 columns):\n",
      "id           652 non-null int64\n",
      "name         652 non-null object\n",
      "parent_id    537 non-null float64\n",
      "dtypes: float64(1), int64(1), object(1)\n",
      "memory usage: 15.4+ KB\n"
     ]
    },
    {
     "data": {
      "text/html": [
       "<div>\n",
       "<style scoped>\n",
       "    .dataframe tbody tr th:only-of-type {\n",
       "        vertical-align: middle;\n",
       "    }\n",
       "\n",
       "    .dataframe tbody tr th {\n",
       "        vertical-align: top;\n",
       "    }\n",
       "\n",
       "    .dataframe thead th {\n",
       "        text-align: right;\n",
       "    }\n",
       "</style>\n",
       "<table border=\"1\" class=\"dataframe\">\n",
       "  <thead>\n",
       "    <tr style=\"text-align: right;\">\n",
       "      <th></th>\n",
       "      <th>id</th>\n",
       "      <th>parent_id</th>\n",
       "    </tr>\n",
       "  </thead>\n",
       "  <tbody>\n",
       "    <tr>\n",
       "      <th>count</th>\n",
       "      <td>652.000000</td>\n",
       "      <td>537.000000</td>\n",
       "    </tr>\n",
       "    <tr>\n",
       "      <th>mean</th>\n",
       "      <td>326.546012</td>\n",
       "      <td>290.232775</td>\n",
       "    </tr>\n",
       "    <tr>\n",
       "      <th>std</th>\n",
       "      <td>188.436658</td>\n",
       "      <td>182.467836</td>\n",
       "    </tr>\n",
       "    <tr>\n",
       "      <th>min</th>\n",
       "      <td>1.000000</td>\n",
       "      <td>1.000000</td>\n",
       "    </tr>\n",
       "    <tr>\n",
       "      <th>25%</th>\n",
       "      <td>163.750000</td>\n",
       "      <td>126.000000</td>\n",
       "    </tr>\n",
       "    <tr>\n",
       "      <th>50%</th>\n",
       "      <td>326.500000</td>\n",
       "      <td>290.000000</td>\n",
       "    </tr>\n",
       "    <tr>\n",
       "      <th>75%</th>\n",
       "      <td>489.250000</td>\n",
       "      <td>465.000000</td>\n",
       "    </tr>\n",
       "    <tr>\n",
       "      <th>max</th>\n",
       "      <td>653.000000</td>\n",
       "      <td>632.000000</td>\n",
       "    </tr>\n",
       "  </tbody>\n",
       "</table>\n",
       "</div>"
      ],
      "text/plain": [
       "               id   parent_id\n",
       "count  652.000000  537.000000\n",
       "mean   326.546012  290.232775\n",
       "std    188.436658  182.467836\n",
       "min      1.000000    1.000000\n",
       "25%    163.750000  126.000000\n",
       "50%    326.500000  290.000000\n",
       "75%    489.250000  465.000000\n",
       "max    653.000000  632.000000"
      ]
     },
     "execution_count": 9,
     "metadata": {},
     "output_type": "execute_result"
    }
   ],
   "source": [
    "print('Info of themes:')\n",
    "themes.info()\n",
    "themes.describe()"
   ]
  },
  {
   "cell_type": "code",
   "execution_count": 10,
   "metadata": {},
   "outputs": [
    {
     "name": "stdout",
     "output_type": "stream",
     "text": [
      "Info of colors:\n",
      "<class 'pandas.core.frame.DataFrame'>\n",
      "RangeIndex: 139 entries, 0 to 138\n",
      "Data columns (total 4 columns):\n",
      "id          139 non-null int64\n",
      "name        139 non-null object\n",
      "rgb         139 non-null object\n",
      "is_trans    139 non-null object\n",
      "dtypes: int64(1), object(3)\n",
      "memory usage: 4.4+ KB\n"
     ]
    },
    {
     "data": {
      "text/html": [
       "<div>\n",
       "<style scoped>\n",
       "    .dataframe tbody tr th:only-of-type {\n",
       "        vertical-align: middle;\n",
       "    }\n",
       "\n",
       "    .dataframe tbody tr th {\n",
       "        vertical-align: top;\n",
       "    }\n",
       "\n",
       "    .dataframe thead th {\n",
       "        text-align: right;\n",
       "    }\n",
       "</style>\n",
       "<table border=\"1\" class=\"dataframe\">\n",
       "  <thead>\n",
       "    <tr style=\"text-align: right;\">\n",
       "      <th></th>\n",
       "      <th>id</th>\n",
       "    </tr>\n",
       "  </thead>\n",
       "  <tbody>\n",
       "    <tr>\n",
       "      <th>count</th>\n",
       "      <td>139.000000</td>\n",
       "    </tr>\n",
       "    <tr>\n",
       "      <th>mean</th>\n",
       "      <td>274.805755</td>\n",
       "    </tr>\n",
       "    <tr>\n",
       "      <th>std</th>\n",
       "      <td>874.872420</td>\n",
       "    </tr>\n",
       "    <tr>\n",
       "      <th>min</th>\n",
       "      <td>-1.000000</td>\n",
       "    </tr>\n",
       "    <tr>\n",
       "      <th>25%</th>\n",
       "      <td>35.500000</td>\n",
       "    </tr>\n",
       "    <tr>\n",
       "      <th>50%</th>\n",
       "      <td>89.000000</td>\n",
       "    </tr>\n",
       "    <tr>\n",
       "      <th>75%</th>\n",
       "      <td>280.000000</td>\n",
       "    </tr>\n",
       "    <tr>\n",
       "      <th>max</th>\n",
       "      <td>9999.000000</td>\n",
       "    </tr>\n",
       "  </tbody>\n",
       "</table>\n",
       "</div>"
      ],
      "text/plain": [
       "                id\n",
       "count   139.000000\n",
       "mean    274.805755\n",
       "std     874.872420\n",
       "min      -1.000000\n",
       "25%      35.500000\n",
       "50%      89.000000\n",
       "75%     280.000000\n",
       "max    9999.000000"
      ]
     },
     "execution_count": 10,
     "metadata": {},
     "output_type": "execute_result"
    }
   ],
   "source": [
    "print('Info of colors:')\n",
    "colors.info()\n",
    "colors.describe()"
   ]
  },
  {
   "cell_type": "code",
   "execution_count": 11,
   "metadata": {},
   "outputs": [
    {
     "name": "stdout",
     "output_type": "stream",
     "text": [
      "Info of inventories:\n",
      "<class 'pandas.core.frame.DataFrame'>\n",
      "RangeIndex: 13008 entries, 0 to 13007\n",
      "Data columns (total 3 columns):\n",
      "id         13008 non-null int64\n",
      "version    13008 non-null int64\n",
      "set_num    13008 non-null object\n",
      "dtypes: int64(2), object(1)\n",
      "memory usage: 305.0+ KB\n"
     ]
    },
    {
     "data": {
      "text/html": [
       "<div>\n",
       "<style scoped>\n",
       "    .dataframe tbody tr th:only-of-type {\n",
       "        vertical-align: middle;\n",
       "    }\n",
       "\n",
       "    .dataframe tbody tr th {\n",
       "        vertical-align: top;\n",
       "    }\n",
       "\n",
       "    .dataframe thead th {\n",
       "        text-align: right;\n",
       "    }\n",
       "</style>\n",
       "<table border=\"1\" class=\"dataframe\">\n",
       "  <thead>\n",
       "    <tr style=\"text-align: right;\">\n",
       "      <th></th>\n",
       "      <th>id</th>\n",
       "      <th>version</th>\n",
       "    </tr>\n",
       "  </thead>\n",
       "  <tbody>\n",
       "    <tr>\n",
       "      <th>count</th>\n",
       "      <td>13008.000000</td>\n",
       "      <td>13008.000000</td>\n",
       "    </tr>\n",
       "    <tr>\n",
       "      <th>mean</th>\n",
       "      <td>10091.705105</td>\n",
       "      <td>1.012223</td>\n",
       "    </tr>\n",
       "    <tr>\n",
       "      <th>std</th>\n",
       "      <td>6612.056918</td>\n",
       "      <td>0.132123</td>\n",
       "    </tr>\n",
       "    <tr>\n",
       "      <th>min</th>\n",
       "      <td>1.000000</td>\n",
       "      <td>1.000000</td>\n",
       "    </tr>\n",
       "    <tr>\n",
       "      <th>25%</th>\n",
       "      <td>4725.250000</td>\n",
       "      <td>1.000000</td>\n",
       "    </tr>\n",
       "    <tr>\n",
       "      <th>50%</th>\n",
       "      <td>9492.500000</td>\n",
       "      <td>1.000000</td>\n",
       "    </tr>\n",
       "    <tr>\n",
       "      <th>75%</th>\n",
       "      <td>14194.250000</td>\n",
       "      <td>1.000000</td>\n",
       "    </tr>\n",
       "    <tr>\n",
       "      <th>max</th>\n",
       "      <td>26486.000000</td>\n",
       "      <td>5.000000</td>\n",
       "    </tr>\n",
       "  </tbody>\n",
       "</table>\n",
       "</div>"
      ],
      "text/plain": [
       "                 id       version\n",
       "count  13008.000000  13008.000000\n",
       "mean   10091.705105      1.012223\n",
       "std     6612.056918      0.132123\n",
       "min        1.000000      1.000000\n",
       "25%     4725.250000      1.000000\n",
       "50%     9492.500000      1.000000\n",
       "75%    14194.250000      1.000000\n",
       "max    26486.000000      5.000000"
      ]
     },
     "execution_count": 11,
     "metadata": {},
     "output_type": "execute_result"
    }
   ],
   "source": [
    "print('Info of inventories:')\n",
    "inventories.info()\n",
    "inventories.describe()"
   ]
  },
  {
   "cell_type": "code",
   "execution_count": 12,
   "metadata": {},
   "outputs": [
    {
     "name": "stdout",
     "output_type": "stream",
     "text": [
      "Info of inventory_sets:\n",
      "<class 'pandas.core.frame.DataFrame'>\n",
      "RangeIndex: 3039 entries, 0 to 3038\n",
      "Data columns (total 3 columns):\n",
      "inventory_id    3039 non-null int64\n",
      "set_num         3039 non-null object\n",
      "quantity        3039 non-null int64\n",
      "dtypes: int64(2), object(1)\n",
      "memory usage: 71.3+ KB\n"
     ]
    },
    {
     "data": {
      "text/html": [
       "<div>\n",
       "<style scoped>\n",
       "    .dataframe tbody tr th:only-of-type {\n",
       "        vertical-align: middle;\n",
       "    }\n",
       "\n",
       "    .dataframe tbody tr th {\n",
       "        vertical-align: top;\n",
       "    }\n",
       "\n",
       "    .dataframe thead th {\n",
       "        text-align: right;\n",
       "    }\n",
       "</style>\n",
       "<table border=\"1\" class=\"dataframe\">\n",
       "  <thead>\n",
       "    <tr style=\"text-align: right;\">\n",
       "      <th></th>\n",
       "      <th>inventory_id</th>\n",
       "      <th>quantity</th>\n",
       "    </tr>\n",
       "  </thead>\n",
       "  <tbody>\n",
       "    <tr>\n",
       "      <th>count</th>\n",
       "      <td>3039.000000</td>\n",
       "      <td>3039.000000</td>\n",
       "    </tr>\n",
       "    <tr>\n",
       "      <th>mean</th>\n",
       "      <td>9530.866074</td>\n",
       "      <td>1.393880</td>\n",
       "    </tr>\n",
       "    <tr>\n",
       "      <th>std</th>\n",
       "      <td>6498.050358</td>\n",
       "      <td>4.666336</td>\n",
       "    </tr>\n",
       "    <tr>\n",
       "      <th>min</th>\n",
       "      <td>35.000000</td>\n",
       "      <td>1.000000</td>\n",
       "    </tr>\n",
       "    <tr>\n",
       "      <th>25%</th>\n",
       "      <td>4261.000000</td>\n",
       "      <td>1.000000</td>\n",
       "    </tr>\n",
       "    <tr>\n",
       "      <th>50%</th>\n",
       "      <td>8820.000000</td>\n",
       "      <td>1.000000</td>\n",
       "    </tr>\n",
       "    <tr>\n",
       "      <th>75%</th>\n",
       "      <td>13538.000000</td>\n",
       "      <td>1.000000</td>\n",
       "    </tr>\n",
       "    <tr>\n",
       "      <th>max</th>\n",
       "      <td>26437.000000</td>\n",
       "      <td>60.000000</td>\n",
       "    </tr>\n",
       "  </tbody>\n",
       "</table>\n",
       "</div>"
      ],
      "text/plain": [
       "       inventory_id     quantity\n",
       "count   3039.000000  3039.000000\n",
       "mean    9530.866074     1.393880\n",
       "std     6498.050358     4.666336\n",
       "min       35.000000     1.000000\n",
       "25%     4261.000000     1.000000\n",
       "50%     8820.000000     1.000000\n",
       "75%    13538.000000     1.000000\n",
       "max    26437.000000    60.000000"
      ]
     },
     "execution_count": 12,
     "metadata": {},
     "output_type": "execute_result"
    }
   ],
   "source": [
    "print('Info of inventory_sets:')\n",
    "inventory_sets.info()\n",
    "inventory_sets.describe()"
   ]
  },
  {
   "cell_type": "markdown",
   "metadata": {},
   "source": [
    "<p>As we can see the Description, each Dataset is free of any missing values. There are no null entries in any of the datasets. So, let's move on to next step. Exploratory Analysis</p>"
   ]
  },
  {
   "cell_type": "markdown",
   "metadata": {},
   "source": [
    "## Data Preparation\n",
    "<h3>Checking for missing values</h3>"
   ]
  },
  {
   "cell_type": "code",
   "execution_count": 13,
   "metadata": {},
   "outputs": [
    {
     "data": {
      "text/html": [
       "<div>\n",
       "<style scoped>\n",
       "    .dataframe tbody tr th:only-of-type {\n",
       "        vertical-align: middle;\n",
       "    }\n",
       "\n",
       "    .dataframe tbody tr th {\n",
       "        vertical-align: top;\n",
       "    }\n",
       "\n",
       "    .dataframe thead th {\n",
       "        text-align: right;\n",
       "    }\n",
       "</style>\n",
       "<table border=\"1\" class=\"dataframe\">\n",
       "  <thead>\n",
       "    <tr style=\"text-align: right;\">\n",
       "      <th></th>\n",
       "      <th>Total</th>\n",
       "      <th>Percent</th>\n",
       "    </tr>\n",
       "  </thead>\n",
       "  <tbody>\n",
       "    <tr>\n",
       "      <th>is_trans</th>\n",
       "      <td>0</td>\n",
       "      <td>0.0</td>\n",
       "    </tr>\n",
       "    <tr>\n",
       "      <th>rgb</th>\n",
       "      <td>0</td>\n",
       "      <td>0.0</td>\n",
       "    </tr>\n",
       "    <tr>\n",
       "      <th>name</th>\n",
       "      <td>0</td>\n",
       "      <td>0.0</td>\n",
       "    </tr>\n",
       "    <tr>\n",
       "      <th>id</th>\n",
       "      <td>0</td>\n",
       "      <td>0.0</td>\n",
       "    </tr>\n",
       "  </tbody>\n",
       "</table>\n",
       "</div>"
      ],
      "text/plain": [
       "          Total  Percent\n",
       "is_trans      0      0.0\n",
       "rgb           0      0.0\n",
       "name          0      0.0\n",
       "id            0      0.0"
      ]
     },
     "execution_count": 13,
     "metadata": {},
     "output_type": "execute_result"
    }
   ],
   "source": [
    "# colors dataset missing values\n",
    "total = colors.isnull().sum().sort_values(ascending=False) # total missing values\n",
    "percent = (colors.isnull().sum()/colors.isnull().count()).sort_values(ascending=False) # total percent of missing values\n",
    "missing_colors = pd.concat([total, percent], axis=1, keys=['Total', 'Percent'])\n",
    "missing_colors"
   ]
  },
  {
   "cell_type": "markdown",
   "metadata": {},
   "source": [
    "<p>No missing values for colors</p>"
   ]
  },
  {
   "cell_type": "code",
   "execution_count": 14,
   "metadata": {},
   "outputs": [
    {
     "data": {
      "text/html": [
       "<div>\n",
       "<style scoped>\n",
       "    .dataframe tbody tr th:only-of-type {\n",
       "        vertical-align: middle;\n",
       "    }\n",
       "\n",
       "    .dataframe tbody tr th {\n",
       "        vertical-align: top;\n",
       "    }\n",
       "\n",
       "    .dataframe thead th {\n",
       "        text-align: right;\n",
       "    }\n",
       "</style>\n",
       "<table border=\"1\" class=\"dataframe\">\n",
       "  <thead>\n",
       "    <tr style=\"text-align: right;\">\n",
       "      <th></th>\n",
       "      <th>Total</th>\n",
       "      <th>Percent</th>\n",
       "    </tr>\n",
       "  </thead>\n",
       "  <tbody>\n",
       "    <tr>\n",
       "      <th>parent_id</th>\n",
       "      <td>115</td>\n",
       "      <td>0.17638</td>\n",
       "    </tr>\n",
       "    <tr>\n",
       "      <th>name</th>\n",
       "      <td>0</td>\n",
       "      <td>0.00000</td>\n",
       "    </tr>\n",
       "    <tr>\n",
       "      <th>id</th>\n",
       "      <td>0</td>\n",
       "      <td>0.00000</td>\n",
       "    </tr>\n",
       "  </tbody>\n",
       "</table>\n",
       "</div>"
      ],
      "text/plain": [
       "           Total  Percent\n",
       "parent_id    115  0.17638\n",
       "name           0  0.00000\n",
       "id             0  0.00000"
      ]
     },
     "execution_count": 14,
     "metadata": {},
     "output_type": "execute_result"
    }
   ],
   "source": [
    "# themes\n",
    "total = themes.isnull().sum().sort_values(ascending=False) # total missing values\n",
    "percent = (themes.isnull().sum()/themes.isnull().count()).sort_values(ascending=False) # total percent of missing values\n",
    "missing_themes = pd.concat([total, percent], axis=1, keys=['Total', 'Percent'])\n",
    "missing_themes"
   ]
  },
  {
   "cell_type": "markdown",
   "metadata": {},
   "source": [
    "<p>Only missing values are parent_id which is not a mandatory field for themes.</p>"
   ]
  },
  {
   "cell_type": "code",
   "execution_count": 15,
   "metadata": {},
   "outputs": [
    {
     "data": {
      "text/html": [
       "<div>\n",
       "<style scoped>\n",
       "    .dataframe tbody tr th:only-of-type {\n",
       "        vertical-align: middle;\n",
       "    }\n",
       "\n",
       "    .dataframe tbody tr th {\n",
       "        vertical-align: top;\n",
       "    }\n",
       "\n",
       "    .dataframe thead th {\n",
       "        text-align: right;\n",
       "    }\n",
       "</style>\n",
       "<table border=\"1\" class=\"dataframe\">\n",
       "  <thead>\n",
       "    <tr style=\"text-align: right;\">\n",
       "      <th></th>\n",
       "      <th>Total</th>\n",
       "      <th>Percent</th>\n",
       "    </tr>\n",
       "  </thead>\n",
       "  <tbody>\n",
       "    <tr>\n",
       "      <th>set_num</th>\n",
       "      <td>0</td>\n",
       "      <td>0.0</td>\n",
       "    </tr>\n",
       "    <tr>\n",
       "      <th>version</th>\n",
       "      <td>0</td>\n",
       "      <td>0.0</td>\n",
       "    </tr>\n",
       "    <tr>\n",
       "      <th>id</th>\n",
       "      <td>0</td>\n",
       "      <td>0.0</td>\n",
       "    </tr>\n",
       "  </tbody>\n",
       "</table>\n",
       "</div>"
      ],
      "text/plain": [
       "         Total  Percent\n",
       "set_num      0      0.0\n",
       "version      0      0.0\n",
       "id           0      0.0"
      ]
     },
     "execution_count": 15,
     "metadata": {},
     "output_type": "execute_result"
    }
   ],
   "source": [
    "# inventories\n",
    "total = inventories.isnull().sum().sort_values(ascending=False) # total missing values\n",
    "percent = (inventories.isnull().sum()/inventories.isnull().count()).sort_values(ascending=False) # total percent of missing values\n",
    "missing_inventories = pd.concat([total, percent], axis=1, keys=['Total', 'Percent'])\n",
    "missing_inventories"
   ]
  },
  {
   "cell_type": "code",
   "execution_count": 16,
   "metadata": {},
   "outputs": [
    {
     "data": {
      "text/html": [
       "<div>\n",
       "<style scoped>\n",
       "    .dataframe tbody tr th:only-of-type {\n",
       "        vertical-align: middle;\n",
       "    }\n",
       "\n",
       "    .dataframe tbody tr th {\n",
       "        vertical-align: top;\n",
       "    }\n",
       "\n",
       "    .dataframe thead th {\n",
       "        text-align: right;\n",
       "    }\n",
       "</style>\n",
       "<table border=\"1\" class=\"dataframe\">\n",
       "  <thead>\n",
       "    <tr style=\"text-align: right;\">\n",
       "      <th></th>\n",
       "      <th>Total</th>\n",
       "      <th>Percent</th>\n",
       "    </tr>\n",
       "  </thead>\n",
       "  <tbody>\n",
       "    <tr>\n",
       "      <th>is_spare</th>\n",
       "      <td>0</td>\n",
       "      <td>0.0</td>\n",
       "    </tr>\n",
       "    <tr>\n",
       "      <th>quantity</th>\n",
       "      <td>0</td>\n",
       "      <td>0.0</td>\n",
       "    </tr>\n",
       "    <tr>\n",
       "      <th>color_id</th>\n",
       "      <td>0</td>\n",
       "      <td>0.0</td>\n",
       "    </tr>\n",
       "    <tr>\n",
       "      <th>part_num</th>\n",
       "      <td>0</td>\n",
       "      <td>0.0</td>\n",
       "    </tr>\n",
       "    <tr>\n",
       "      <th>inventory_id</th>\n",
       "      <td>0</td>\n",
       "      <td>0.0</td>\n",
       "    </tr>\n",
       "  </tbody>\n",
       "</table>\n",
       "</div>"
      ],
      "text/plain": [
       "              Total  Percent\n",
       "is_spare          0      0.0\n",
       "quantity          0      0.0\n",
       "color_id          0      0.0\n",
       "part_num          0      0.0\n",
       "inventory_id      0      0.0"
      ]
     },
     "execution_count": 16,
     "metadata": {},
     "output_type": "execute_result"
    }
   ],
   "source": [
    "# inventory_parts\n",
    "total = inventory_parts.isnull().sum().sort_values(ascending=False) # total missing values\n",
    "percent = (inventory_parts.isnull().sum()/inventory_parts.isnull().count()).sort_values(ascending=False) # total percent of missing values\n",
    "missing_inventory_parts = pd.concat([total, percent], axis=1, keys=['Total', 'Percent'])\n",
    "missing_inventory_parts"
   ]
  },
  {
   "cell_type": "code",
   "execution_count": 17,
   "metadata": {},
   "outputs": [
    {
     "data": {
      "text/html": [
       "<div>\n",
       "<style scoped>\n",
       "    .dataframe tbody tr th:only-of-type {\n",
       "        vertical-align: middle;\n",
       "    }\n",
       "\n",
       "    .dataframe tbody tr th {\n",
       "        vertical-align: top;\n",
       "    }\n",
       "\n",
       "    .dataframe thead th {\n",
       "        text-align: right;\n",
       "    }\n",
       "</style>\n",
       "<table border=\"1\" class=\"dataframe\">\n",
       "  <thead>\n",
       "    <tr style=\"text-align: right;\">\n",
       "      <th></th>\n",
       "      <th>Total</th>\n",
       "      <th>Percent</th>\n",
       "    </tr>\n",
       "  </thead>\n",
       "  <tbody>\n",
       "    <tr>\n",
       "      <th>quantity</th>\n",
       "      <td>0</td>\n",
       "      <td>0.0</td>\n",
       "    </tr>\n",
       "    <tr>\n",
       "      <th>set_num</th>\n",
       "      <td>0</td>\n",
       "      <td>0.0</td>\n",
       "    </tr>\n",
       "    <tr>\n",
       "      <th>inventory_id</th>\n",
       "      <td>0</td>\n",
       "      <td>0.0</td>\n",
       "    </tr>\n",
       "  </tbody>\n",
       "</table>\n",
       "</div>"
      ],
      "text/plain": [
       "              Total  Percent\n",
       "quantity          0      0.0\n",
       "set_num           0      0.0\n",
       "inventory_id      0      0.0"
      ]
     },
     "execution_count": 17,
     "metadata": {},
     "output_type": "execute_result"
    }
   ],
   "source": [
    "# inventory_sets\n",
    "total = inventory_sets.isnull().sum().sort_values(ascending=False) # total missing values\n",
    "percent = (inventory_sets.isnull().sum()/inventory_sets.isnull().count()).sort_values(ascending=False) # total percent of missing values\n",
    "missing_inventory_sets = pd.concat([total, percent], axis=1, keys=['Total', 'Percent'])\n",
    "missing_inventory_sets"
   ]
  },
  {
   "cell_type": "code",
   "execution_count": 18,
   "metadata": {},
   "outputs": [
    {
     "data": {
      "text/html": [
       "<div>\n",
       "<style scoped>\n",
       "    .dataframe tbody tr th:only-of-type {\n",
       "        vertical-align: middle;\n",
       "    }\n",
       "\n",
       "    .dataframe tbody tr th {\n",
       "        vertical-align: top;\n",
       "    }\n",
       "\n",
       "    .dataframe thead th {\n",
       "        text-align: right;\n",
       "    }\n",
       "</style>\n",
       "<table border=\"1\" class=\"dataframe\">\n",
       "  <thead>\n",
       "    <tr style=\"text-align: right;\">\n",
       "      <th></th>\n",
       "      <th>Total</th>\n",
       "      <th>Percent</th>\n",
       "    </tr>\n",
       "  </thead>\n",
       "  <tbody>\n",
       "    <tr>\n",
       "      <th>part_cat_id</th>\n",
       "      <td>0</td>\n",
       "      <td>0.0</td>\n",
       "    </tr>\n",
       "    <tr>\n",
       "      <th>name</th>\n",
       "      <td>0</td>\n",
       "      <td>0.0</td>\n",
       "    </tr>\n",
       "    <tr>\n",
       "      <th>part_num</th>\n",
       "      <td>0</td>\n",
       "      <td>0.0</td>\n",
       "    </tr>\n",
       "  </tbody>\n",
       "</table>\n",
       "</div>"
      ],
      "text/plain": [
       "             Total  Percent\n",
       "part_cat_id      0      0.0\n",
       "name             0      0.0\n",
       "part_num         0      0.0"
      ]
     },
     "execution_count": 18,
     "metadata": {},
     "output_type": "execute_result"
    }
   ],
   "source": [
    "# parts\n",
    "total = parts.isnull().sum().sort_values(ascending=False) # total missing values\n",
    "percent = (parts.isnull().sum()/parts.isnull().count()).sort_values(ascending=False) # total percent of missing values\n",
    "missing_parts = pd.concat([total, percent], axis=1, keys=['Total', 'Percent'])\n",
    "missing_parts"
   ]
  },
  {
   "cell_type": "code",
   "execution_count": 19,
   "metadata": {},
   "outputs": [
    {
     "data": {
      "text/html": [
       "<div>\n",
       "<style scoped>\n",
       "    .dataframe tbody tr th:only-of-type {\n",
       "        vertical-align: middle;\n",
       "    }\n",
       "\n",
       "    .dataframe tbody tr th {\n",
       "        vertical-align: top;\n",
       "    }\n",
       "\n",
       "    .dataframe thead th {\n",
       "        text-align: right;\n",
       "    }\n",
       "</style>\n",
       "<table border=\"1\" class=\"dataframe\">\n",
       "  <thead>\n",
       "    <tr style=\"text-align: right;\">\n",
       "      <th></th>\n",
       "      <th>Total</th>\n",
       "      <th>Percent</th>\n",
       "    </tr>\n",
       "  </thead>\n",
       "  <tbody>\n",
       "    <tr>\n",
       "      <th>name</th>\n",
       "      <td>0</td>\n",
       "      <td>0.0</td>\n",
       "    </tr>\n",
       "    <tr>\n",
       "      <th>id</th>\n",
       "      <td>0</td>\n",
       "      <td>0.0</td>\n",
       "    </tr>\n",
       "  </tbody>\n",
       "</table>\n",
       "</div>"
      ],
      "text/plain": [
       "      Total  Percent\n",
       "name      0      0.0\n",
       "id        0      0.0"
      ]
     },
     "execution_count": 19,
     "metadata": {},
     "output_type": "execute_result"
    }
   ],
   "source": [
    "# part_categories\n",
    "total = part_categories.isnull().sum().sort_values(ascending=False) # total missing values\n",
    "percent = (part_categories.isnull().sum()/part_categories.isnull().count()).sort_values(ascending=False) # total percent of missing values\n",
    "missing_part_categories = pd.concat([total, percent], axis=1, keys=['Total', 'Percent'])\n",
    "missing_part_categories"
   ]
  },
  {
   "cell_type": "code",
   "execution_count": 20,
   "metadata": {},
   "outputs": [
    {
     "data": {
      "text/html": [
       "<div>\n",
       "<style scoped>\n",
       "    .dataframe tbody tr th:only-of-type {\n",
       "        vertical-align: middle;\n",
       "    }\n",
       "\n",
       "    .dataframe tbody tr th {\n",
       "        vertical-align: top;\n",
       "    }\n",
       "\n",
       "    .dataframe thead th {\n",
       "        text-align: right;\n",
       "    }\n",
       "</style>\n",
       "<table border=\"1\" class=\"dataframe\">\n",
       "  <thead>\n",
       "    <tr style=\"text-align: right;\">\n",
       "      <th></th>\n",
       "      <th>Total</th>\n",
       "      <th>Percent</th>\n",
       "    </tr>\n",
       "  </thead>\n",
       "  <tbody>\n",
       "    <tr>\n",
       "      <th>num_parts</th>\n",
       "      <td>0</td>\n",
       "      <td>0.0</td>\n",
       "    </tr>\n",
       "    <tr>\n",
       "      <th>theme_id</th>\n",
       "      <td>0</td>\n",
       "      <td>0.0</td>\n",
       "    </tr>\n",
       "    <tr>\n",
       "      <th>year</th>\n",
       "      <td>0</td>\n",
       "      <td>0.0</td>\n",
       "    </tr>\n",
       "    <tr>\n",
       "      <th>name</th>\n",
       "      <td>0</td>\n",
       "      <td>0.0</td>\n",
       "    </tr>\n",
       "    <tr>\n",
       "      <th>set_num</th>\n",
       "      <td>0</td>\n",
       "      <td>0.0</td>\n",
       "    </tr>\n",
       "  </tbody>\n",
       "</table>\n",
       "</div>"
      ],
      "text/plain": [
       "           Total  Percent\n",
       "num_parts      0      0.0\n",
       "theme_id       0      0.0\n",
       "year           0      0.0\n",
       "name           0      0.0\n",
       "set_num        0      0.0"
      ]
     },
     "execution_count": 20,
     "metadata": {},
     "output_type": "execute_result"
    }
   ],
   "source": [
    "# sets\n",
    "total = sets.isnull().sum().sort_values(ascending=False) # total missing values\n",
    "percent = (sets.isnull().sum()/sets.isnull().count()).sort_values(ascending=False) # total percent of missing values\n",
    "missing_sets = pd.concat([total, percent], axis=1, keys=['Total', 'Percent'])\n",
    "missing_sets"
   ]
  },
  {
   "cell_type": "markdown",
   "metadata": {},
   "source": [
    "<p>There are no missing values in any datasets. we can move on to data exploration</p>"
   ]
  },
  {
   "cell_type": "markdown",
   "metadata": {},
   "source": [
    "## Data Exploration"
   ]
  },
  {
   "cell_type": "code",
   "execution_count": 30,
   "metadata": {},
   "outputs": [
    {
     "data": {
      "text/plain": [
       "<matplotlib.axes._subplots.AxesSubplot at 0x2ae52da5438>"
      ]
     },
     "execution_count": 30,
     "metadata": {},
     "output_type": "execute_result"
    },
    {
     "data": {
      "image/png": "[encoded data removed]",
      "text/plain": [
       "<matplotlib.figure.Figure at 0x2ae52d68be0>"
      ]
     },
     "metadata": {},
     "output_type": "display_data"
    }
   ],
   "source": [
    "colors_trans = colors['is_trans'].map({'f':False, 't': True})\n",
    "\n",
    "# tansparency of lego blocks normalised\n",
    "(colors_trans.value_counts(normalize=True)*100).plot(kind='bar', figsize=(6,6), color=['red', 'green'])"
   ]
  },
  {
   "cell_type": "code",
   "execution_count": 22,
   "metadata": {},
   "outputs": [
    {
     "data": {
      "text/plain": [
       "<matplotlib.axes._subplots.AxesSubplot at 0x2ae52e052b0>"
      ]
     },
     "execution_count": 22,
     "metadata": {},
     "output_type": "execute_result"
    },
    {
     "data": {
      "image/png": "[encoded data removed]",
      "text/plain": [
       "<matplotlib.figure.Figure at 0x2ae52e033c8>"
      ]
     },
     "metadata": {},
     "output_type": "display_data"
    }
   ],
   "source": [
    "# sets\n",
    "# average number of parts included in the set by year\n",
    "parts_by_year = sets.groupby('year')['num_parts'].mean().round(2)\n",
    "\n",
    "# Plot of trends in average number of parts by year\n",
    "parts_by_year.plot(x='year', y='num_parts', figsize=(8, 6))"
   ]
  },
  {
   "cell_type": "markdown",
   "metadata": {},
   "source": [
    "<p>The number of parts included in the set, i.e the size on an average has increased over the years leading to bigger lego builds in recent times</p>"
   ]
  },
  {
   "cell_type": "code",
   "execution_count": 23,
   "metadata": {},
   "outputs": [
    {
     "data": {
      "text/plain": [
       "<matplotlib.axes._subplots.AxesSubplot at 0x2ae52dcbb38>"
      ]
     },
     "execution_count": 23,
     "metadata": {},
     "output_type": "execute_result"
    },
    {
     "data": {
      "image/png": "[encoded data removed]",
      "text/plain": [
       "<matplotlib.figure.Figure at 0x2ae52799780>"
      ]
     },
     "metadata": {},
     "output_type": "display_data"
    }
   ],
   "source": [
    "# average number of themes released per year\n",
    "themes_by_year = sets[['year', 'theme_id']].groupby('year').count().reset_index()\n",
    "themes_by_year.plot(x='year', figsize=(8,6))"
   ]
  },
  {
   "cell_type": "markdown",
   "metadata": {},
   "source": [
    "<p>The number of themes released per year increased over the years. The growth has been linear for 50 years and has been a steeper increase in last 2 decades</p>"
   ]
  },
  {
   "cell_type": "code",
   "execution_count": 24,
   "metadata": {},
   "outputs": [
    {
     "data": {
      "image/png": "[encoded data removed]",
      "text/plain": [
       "<matplotlib.figure.Figure at 0x2ae52990208>"
      ]
     },
     "metadata": {},
     "output_type": "display_data"
    }
   ],
   "source": [
    "parts_cat_freq = parts['part_cat_id'].value_counts().sort_index() # frequency of part category id's\n",
    "\n",
    "# converted parts_cat_freq to a DataFrame with index same as of part_categories to merge on common id column\n",
    "parts_cat_freq = pd.DataFrame({'id': parts_cat_freq.index, 'parts_cat_freq': parts_cat_freq.values})\n",
    "\n",
    "# merged 2 dataframes, one with \"parts category id and its frquency\", other with \"parts category id and it's name\" on common id column \n",
    "parts_cat_name_freq = parts_cat_freq.merge(part_categories, on='id')\n",
    "\n",
    "parts_cat_name_freq_sorted = parts_cat_name_freq[['name', 'parts_cat_freq']].sort_values(by='parts_cat_freq', ascending=False)\n",
    "\n",
    "# top 10 categories of lego blocks\n",
    "parts_cat_name_freq_sorted_top = parts_cat_name_freq_sorted[:10]\n",
    "\n",
    "# Adjusting the matplotlib plot parameters like labels and figsize\n",
    "plt.figure(figsize=(10,5))\n",
    "sns.barplot(parts_cat_name_freq_sorted_top.name, parts_cat_name_freq_sorted_top.parts_cat_freq)\n",
    "plt.title('Top 10 categories of lego blocks', fontsize=15)\n",
    "plt.ylabel('Number of Occurrences', fontsize=14)\n",
    "plt.xlabel('Category', fontsize=14)\n",
    "plt.xticks(rotation=60)\n",
    "plt.show()"
   ]
  },
  {
   "cell_type": "code",
   "execution_count": 25,
   "metadata": {},
   "outputs": [
    {
     "data": {
      "image/png": "[encoded data removed]",
      "text/plain": [
       "<matplotlib.figure.Figure at 0x2ae52d7ddd8>"
      ]
     },
     "metadata": {},
     "output_type": "display_data"
    }
   ],
   "source": [
    "# most frequently used colors and their respective colors in plot\n",
    "# inventory_parts['color_id'].head(18)\n",
    "\n",
    "inv_parts_color_freq = inventory_parts['color_id'].value_counts().sort_index() # frequency of part category id's\n",
    "\n",
    "# converted parts_cat_freq to a DataFrame with index same as of part_categories to merge on common id column\n",
    "inv_parts_color_freq = pd.DataFrame({'id': inv_parts_color_freq.index, 'inv_parts_color_freq': inv_parts_color_freq.values})\n",
    "\n",
    "# merged 2 dataframes, one with \"parts category id and its frquency\", other with \"parts category id and it's name\" on common id column \n",
    "inv_parts_color_freq = inv_parts_color_freq.merge(colors, on='id')\n",
    "\n",
    "# inv_parts_color_freq_palette = \n",
    "\n",
    "inv_parts_color_freq_sorted = inv_parts_color_freq[['name', 'inv_parts_color_freq', 'rgb']].sort_values(by='inv_parts_color_freq', ascending=False)\n",
    "\n",
    "# top 10 categories of lego blocks\n",
    "inv_parts_color_freq_sorted = inv_parts_color_freq_sorted[:10]\n",
    "\n",
    "# inventory parts color palette using their corresponding RGB values\n",
    "inv_parts_color_freq_sorted_palette = np.array ('#' + inv_parts_color_freq_sorted['rgb'] )\n",
    "\n",
    "# Adjusting the matplotlib plot parameters like labels and figsize\n",
    "plt.figure(figsize=(10,5))\n",
    "sns.set(rc={'axes.facecolor':'#eeeeee', 'figure.facecolor':'#ffffff'})\n",
    "sns.barplot( inv_parts_color_freq_sorted.name, inv_parts_color_freq_sorted.inv_parts_color_freq, palette=inv_parts_color_freq_sorted_palette)\n",
    "plt.title('Top 10 Colors of lego blocks', fontsize=15)\n",
    "plt.ylabel('Number of Parts', fontsize=14)\n",
    "plt.xlabel('Colors', fontsize=14)\n",
    "plt.xticks(rotation=60)\n",
    "plt.show()"
   ]
  },
  {
   "cell_type": "code",
   "execution_count": 26,
   "metadata": {},
   "outputs": [
    {
     "data": {
      "image/png": "[encoded data removed]",
      "text/plain": [
       "<matplotlib.figure.Figure at 0x2ae52d2e6d8>"
      ]
     },
     "metadata": {},
     "output_type": "display_data"
    }
   ],
   "source": [
    "high_num_sets = sets[['name', 'num_parts']].sort_values(by='num_parts', ascending=False)[:10]\n",
    "\n",
    "# high_num_sets\n",
    "# Adjusting the matplotlib plot parameters like labels and figsize\n",
    "plt.figure(figsize=(10,5))\n",
    "sns.set(rc={'axes.facecolor':'#eeeeee', 'figure.facecolor':'#ffffff'})\n",
    "sns.barplot( high_num_sets.name, high_num_sets.num_parts)\n",
    "plt.title('Top 10 lego sets with maximum parts', fontsize=15)\n",
    "plt.ylabel('Number of Parts', fontsize=14)\n",
    "plt.xlabel('Lego Set', fontsize=14)\n",
    "plt.xticks(rotation=60)\n",
    "plt.show()"
   ]
  },
  {
   "cell_type": "code",
   "execution_count": 27,
   "metadata": {},
   "outputs": [
    {
     "data": {
      "image/png": "[encoded data removed]",
      "text/plain": [
       "<matplotlib.figure.Figure at 0x2ae52f06f60>"
      ]
     },
     "metadata": {},
     "output_type": "display_data"
    }
   ],
   "source": [
    "high_theme_sets = sets['theme_id'].value_counts()[:10]\n",
    "\n",
    "# convert value counts themes to dataframes\n",
    "high_theme_sets = pd.DataFrame({'id': high_theme_sets.index, 'theme_count': high_theme_sets.values})\n",
    "\n",
    "# merge two dataframes on common id's\n",
    "high_theme_sets_df = high_theme_sets.merge(themes)\n",
    "\n",
    "plt.figure(figsize=(10,5))\n",
    "sns.set(rc={'axes.facecolor':'#eeeeee', 'figure.facecolor':'#ffffff'})\n",
    "sns.barplot( high_theme_sets_df.name, high_theme_sets_df.theme_count)\n",
    "plt.title('Top 10 lego sets with maximum themes based on set count', fontsize=16)\n",
    "plt.ylabel('Number of Themes', fontsize=15)\n",
    "plt.xlabel('Themes', fontsize=15)\n",
    "plt.xticks(rotation=60)\n",
    "plt.show()"
   ]
  },
  {
   "cell_type": "markdown",
   "metadata": {},
   "source": [
    "## Summary\n",
    "<ul>\n",
    "    <li>By looking at Info of all Tables, we can see that there is no missing data in any of the DataFrames</li>\n",
    "    <li>Most of the lego set pieces ( around 80% ) are translucent</li>\n",
    "    <li>The number of parts in a set on average increased over the years</li>\n",
    "    <li>The number of themes released over the years has seen a steady increase till 2000 and exponentially since then</li>\n",
    "    <li>Minifig category has got more parts compared to any other categories and it's frequency is quadrapule of second leading category</li>\n",
    "    <li>Most used Colors for Lego Blocks are the commonly used colors like Black, White, Red, Yellow and Blue. Different Variations of these colors mixed with gray follow them in frequency.</li>\n",
    "</ul>"
   ]
  }
 ],
 "metadata": {
  "kernelspec": {
   "display_name": "Python 3",
   "language": "python",
   "name": "python3"
  },
  "language_info": {
   "codemirror_mode": {
    "name": "ipython",
    "version": 3
   },
   "file_extension": ".py",
   "mimetype": "text/x-python",
   "name": "python",
   "nbconvert_exporter": "python",
   "pygments_lexer": "ipython3",
   "version": "3.6.4"
  }
 },
 "nbformat": 4,
 "nbformat_minor": 2
}
